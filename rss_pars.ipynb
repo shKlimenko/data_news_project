{
 "cells": [
  {
   "cell_type": "code",
   "execution_count": 4,
   "id": "27f93cff",
   "metadata": {},
   "outputs": [],
   "source": [
    "import feedparser\n",
    "import pandas as pd\n",
    "from datetime import datetime"
   ]
  },
  {
   "cell_type": "code",
   "execution_count": null,
   "id": "67e78c0f",
   "metadata": {},
   "outputs": [],
   "source": [
    "url = 'https://lenta.ru/rss/news'"
   ]
  },
  {
   "cell_type": "code",
   "execution_count": 19,
   "id": "fa01bff8",
   "metadata": {},
   "outputs": [],
   "source": [
    "def rss_to_dataframe(url):\n",
    "    feed = feedparser.parse(url)\n",
    "    articles = []\n",
    "    \n",
    "    for entry in feed.entries:\n",
    "        articles.append({\n",
    "            'guid': entry.guid,\n",
    "            #'author': entry.author,\n",
    "            'title': entry.title,\n",
    "            'link': entry.link,\n",
    "            'published': datetime(*entry.published_parsed[:6]),\n",
    "            'category': entry.category\n",
    "        })\n",
    "        \n",
    "    return pd.DataFrame(articles)"
   ]
  },
  {
   "cell_type": "code",
   "execution_count": 21,
   "id": "1f5c05d9",
   "metadata": {},
   "outputs": [],
   "source": [
    "df = rss_to_dataframe(\"https://lenta.ru/rss/news\")"
   ]
  },
  {
   "cell_type": "code",
   "execution_count": 10,
   "id": "b3b93e39",
   "metadata": {},
   "outputs": [
    {
     "name": "stdout",
     "output_type": "stream",
     "text": [
      "Index(['guid', 'author', 'title', 'link', 'published', 'category'], dtype='object')\n"
     ]
    }
   ],
   "source": [
    "print(df.columns)"
   ]
  },
  {
   "cell_type": "code",
   "execution_count": 22,
   "id": "ffa2fdcb",
   "metadata": {},
   "outputs": [
    {
     "data": {
      "text/html": [
       "<div>\n",
       "<style scoped>\n",
       "    .dataframe tbody tr th:only-of-type {\n",
       "        vertical-align: middle;\n",
       "    }\n",
       "\n",
       "    .dataframe tbody tr th {\n",
       "        vertical-align: top;\n",
       "    }\n",
       "\n",
       "    .dataframe thead th {\n",
       "        text-align: right;\n",
       "    }\n",
       "</style>\n",
       "<table border=\"1\" class=\"dataframe\">\n",
       "  <thead>\n",
       "    <tr style=\"text-align: right;\">\n",
       "      <th></th>\n",
       "      <th>guid</th>\n",
       "      <th>title</th>\n",
       "      <th>link</th>\n",
       "      <th>published</th>\n",
       "      <th>category</th>\n",
       "    </tr>\n",
       "  </thead>\n",
       "  <tbody>\n",
       "    <tr>\n",
       "      <th>197</th>\n",
       "      <td>https://lenta.ru/news/2025/06/22/v-rossii-za-n...</td>\n",
       "      <td>В России за ночь уничтожили 11 украинских бесп...</td>\n",
       "      <td>https://lenta.ru/news/2025/06/22/v-rossii-za-n...</td>\n",
       "      <td>2025-06-22 04:38:00</td>\n",
       "      <td>Россия</td>\n",
       "    </tr>\n",
       "    <tr>\n",
       "      <th>198</th>\n",
       "      <td>https://lenta.ru/news/2025/06/22/rossiyanam-ra...</td>\n",
       "      <td>Россиянам рассказали о вложениях в золото</td>\n",
       "      <td>https://lenta.ru/news/2025/06/22/rossiyanam-ra...</td>\n",
       "      <td>2025-06-22 04:35:39</td>\n",
       "      <td>Экономика</td>\n",
       "    </tr>\n",
       "    <tr>\n",
       "      <th>199</th>\n",
       "      <td>https://lenta.ru/news/2025/06/22/v-mid-irana-p...</td>\n",
       "      <td>В МИД Ирана прокомментировали удары США по яде...</td>\n",
       "      <td>https://lenta.ru/news/2025/06/22/v-mid-irana-p...</td>\n",
       "      <td>2025-06-22 04:34:00</td>\n",
       "      <td>Мир</td>\n",
       "    </tr>\n",
       "  </tbody>\n",
       "</table>\n",
       "</div>"
      ],
      "text/plain": [
       "                                                  guid  \\\n",
       "197  https://lenta.ru/news/2025/06/22/v-rossii-za-n...   \n",
       "198  https://lenta.ru/news/2025/06/22/rossiyanam-ra...   \n",
       "199  https://lenta.ru/news/2025/06/22/v-mid-irana-p...   \n",
       "\n",
       "                                                 title  \\\n",
       "197  В России за ночь уничтожили 11 украинских бесп...   \n",
       "198          Россиянам рассказали о вложениях в золото   \n",
       "199  В МИД Ирана прокомментировали удары США по яде...   \n",
       "\n",
       "                                                  link           published  \\\n",
       "197  https://lenta.ru/news/2025/06/22/v-rossii-za-n... 2025-06-22 04:38:00   \n",
       "198  https://lenta.ru/news/2025/06/22/rossiyanam-ra... 2025-06-22 04:35:39   \n",
       "199  https://lenta.ru/news/2025/06/22/v-mid-irana-p... 2025-06-22 04:34:00   \n",
       "\n",
       "      category  \n",
       "197     Россия  \n",
       "198  Экономика  \n",
       "199        Мир  "
      ]
     },
     "execution_count": 22,
     "metadata": {},
     "output_type": "execute_result"
    }
   ],
   "source": [
    "df.tail(3)"
   ]
  },
  {
   "cell_type": "code",
   "execution_count": 17,
   "id": "d7f61be1",
   "metadata": {},
   "outputs": [
    {
     "data": {
      "text/plain": [
       "'https://lenta.ru/news/2025/06/22/bomba/'"
      ]
     },
     "execution_count": 17,
     "metadata": {},
     "output_type": "execute_result"
    }
   ],
   "source": [
    "df.at[199, 'guid']"
   ]
  },
  {
   "cell_type": "code",
   "execution_count": 20,
   "id": "abb98983",
   "metadata": {},
   "outputs": [],
   "source": [
    "df_tass = rss_to_dataframe('https://tass.ru/rss/v2.xml')"
   ]
  }
 ],
 "metadata": {
  "kernelspec": {
   "display_name": ".venv",
   "language": "python",
   "name": "python3"
  },
  "language_info": {
   "codemirror_mode": {
    "name": "ipython",
    "version": 3
   },
   "file_extension": ".py",
   "mimetype": "text/x-python",
   "name": "python",
   "nbconvert_exporter": "python",
   "pygments_lexer": "ipython3",
   "version": "3.9.13"
  }
 },
 "nbformat": 4,
 "nbformat_minor": 5
}
